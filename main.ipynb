{
 "cells": [
  {
   "cell_type": "markdown",
   "metadata": {},
   "source": [
    "Import libraries for fetching the data"
   ]
  },
  {
   "cell_type": "code",
   "execution_count": 1,
   "metadata": {},
   "outputs": [
    {
     "name": "stderr",
     "output_type": "stream",
     "text": [
      "Unable to determine R home: [WinError 2] Den angivne fil blev ikke fundet\n",
      "Unable to determine R library path: Command '('C:\\\\Program Files\\\\R\\\\R-4.1.2\\\\bin\\\\Rscript', '-e', 'cat(Sys.getenv(\"LD_LIBRARY_PATH\"))')' returned non-zero exit status 1.\n"
     ]
    }
   ],
   "source": [
    "import os\n",
    "import pandas as pd\n",
    "import timeit\n",
    "import rpy2.robjects as ro\n",
    "from rpy2.robjects import r\n",
    "from rpy2.robjects import pandas2ri\n",
    "from rpy2.robjects.conversion import localconverter\n",
    "import requests\n"
   ]
  },
  {
   "cell_type": "markdown",
   "metadata": {},
   "source": [
    "Fetch and convert cipher data to pandas dataframe."
   ]
  },
  {
   "cell_type": "code",
   "execution_count": 2,
   "metadata": {},
   "outputs": [],
   "source": [
    "data_url = \"https://nextcloud.sdu.dk/index.php/s/Zzjcqjopy5cTawn/download/data_33.Rdata\"\n",
    "data_file = \"data.Rdata\"\n",
    "\n",
    "#download the file\n",
    "req = requests.get(data_url, allow_redirects=True, stream=True)\n",
    "\n",
    "#save downloaded file\n",
    "with open(data_file,\"wb\") as rf:\n",
    "     for chunk in req.iter_content(chunk_size=1024):\n",
    "         # writing one chunk at a time to r file\n",
    "         if chunk:\n",
    "              rf.write(chunk)\n",
    "\n",
    "r_data=r.load(data_file)\n",
    "\n",
    "with localconverter(ro.default_converter + pandas2ri.converter):\n",
    "    ciphers = ro.conversion.rpy2py(r['ciphers'])"
   ]
  },
  {
   "cell_type": "markdown",
   "metadata": {},
   "source": [
    "Define utility functions."
   ]
  },
  {
   "cell_type": "code",
   "execution_count": 71,
   "metadata": {},
   "outputs": [],
   "source": [
    "import numpy as np\n",
    "import random\n",
    "import statistics\n",
    "from stopwatch import Stopwatch\n",
    "import matplotlib.pyplot as plt\n",
    "import seaborn as sn"
   ]
  },
  {
   "cell_type": "code",
   "execution_count": 35,
   "metadata": {},
   "outputs": [],
   "source": [
    "def take(arr, indexes):\n",
    "    mask = np.ones(len(arr), dtype=bool)\n",
    "    mask[indexes] = True\n",
    "    return arr[mask]\n",
    "\n",
    "def take_inverse(arr, indexes):\n",
    "    mask = np.ones(len(arr), dtype=bool)\n",
    "    mask[indexes] = False\n",
    "    return arr[mask]\n",
    "\n",
    "def all_persons_in(ciphers, split = 0.5):\n",
    "    count = len(ciphers)\n",
    "    samples = random.sample(range(0, count), int(count * split))\n",
    "    train_data = take(ciphers, samples)\n",
    "    test_data = take_inverse(ciphers, samples)\n",
    "    return { \"train_data\": train_data, \"test_data\": test_data }\n",
    "\n",
    "def disjunct(ciphers, amount):\n",
    "    total_people = len(set(ciphers.T[0]))\n",
    "    per_person = int(len(ciphers) / total_people)\n",
    "    train_data = take(ciphers, range(0, per_person * amount))\n",
    "    test_data = take_inverse(ciphers, range(0, per_person * amount))\n",
    "    return { \"train_data\": train_data, \"test_data\": test_data }\n",
    "\n",
    "def split(ciphers):\n",
    "    person_index = ciphers.T[0]\n",
    "    ground_truth = ciphers.T[1]\n",
    "    data = []\n",
    "    for cipher in ciphers:\n",
    "        data.append(cipher[2:len(cipher)])\n",
    "    return { \"person\": person_index, \"truth\":ground_truth, \"data\": data}\n",
    "\n",
    "def compute_accuracy_folds(folds, ciphers, predictor, predictor_args = {}):\n",
    "    results = []\n",
    "    for fold in folds:\n",
    "        train_raw = split(take_inverse(ciphers, fold))\n",
    "        test_raw = split(take(ciphers, fold))\n",
    "\n",
    "        train_data = train_raw['data']\n",
    "        train_labels = train_raw['truth']\n",
    "        test_data = test_raw['data']\n",
    "        test_labels = test_raw['truth']\n",
    "\n",
    "        predictions = predictor(train_data, train_labels, test_data, predictor_args)\n",
    "        cf = pd.crosstab(predictions, test_labels)\n",
    "        accuracy = np.diag(cf).sum() / cf.to_numpy().sum()\n",
    "\n",
    "        results.append(accuracy)\n",
    "\n",
    "    mean = statistics.mean(results)\n",
    "    stdev = statistics.stdev(results)\n",
    "    return { \"mean\": mean, \"stdev\": stdev }\n",
    "\n",
    "def k_folds(arr_size, folds):\n",
    "    samples = range(0, arr_size)\n",
    "    return np.array_split(samples, folds)"
   ]
  },
  {
   "cell_type": "markdown",
   "metadata": {},
   "source": [
    "Perform PCA and other preprocessing on ciphers."
   ]
  },
  {
   "cell_type": "code",
   "execution_count": 29,
   "metadata": {},
   "outputs": [],
   "source": [
    "shuffle = random.sample(range(0, len(ciphers)), len(ciphers))\n",
    "ciphers_shuffle = take(ciphers, shuffle)"
   ]
  },
  {
   "cell_type": "code",
   "execution_count": 30,
   "metadata": {},
   "outputs": [],
   "source": [
    "from sklearn.decomposition import PCA\n",
    "\n",
    "def decompose(ciphers, cumsum):\n",
    "    cipher_length = len(ciphers.T)\n",
    "\n",
    "    metadata = np.delete(ciphers, range(2, cipher_length), axis=1)\n",
    "    copy = np.delete(ciphers, [0,1], axis=1)\n",
    "\n",
    "    pca = PCA(cumsum)\n",
    "    pca.fit(copy)\n",
    "    transformed = pca.transform(copy)\n",
    "\n",
    "    ciphers_pca = np.append(metadata, transformed, axis=1)\n",
    "    return ciphers_pca\n",
    "\n",
    "ciphers_pca = decompose(ciphers, 0.8)\n",
    "ciphers_shuffle_pca = decompose(ciphers_shuffle, 0.8)"
   ]
  },
  {
   "cell_type": "markdown",
   "metadata": {},
   "source": [
    "Perform cross-validated kNN analysis with and without preprocessing"
   ]
  },
  {
   "cell_type": "code",
   "execution_count": 6,
   "metadata": {},
   "outputs": [],
   "source": [
    "from sklearn.neighbors import KNeighborsClassifier\n",
    "\n",
    "# kNN functions\n",
    "def knn_predictor(train_data, train_labels, test_data, args):\n",
    "    k = args['k']\n",
    "    neigh = KNeighborsClassifier(n_neighbors=k)\n",
    "    neigh.fit(train_data, train_labels)\n",
    "    return neigh.predict(test_data)"
   ]
  },
  {
   "cell_type": "code",
   "execution_count": 26,
   "metadata": {},
   "outputs": [
    {
     "name": "stdout",
     "output_type": "stream",
     "text": [
      "{'mean': 0.9340454545454545, 'stdev': 0.00043199307815894913}\n"
     ]
    }
   ],
   "source": [
    "# Without preprocessing\n",
    "data = all_persons_in(ciphers, 0.5)\n",
    "print(compute_accuracy_folds(k_folds(66000, 10), ciphers, knn_predictor, {'k': 3}))"
   ]
  },
  {
   "cell_type": "code",
   "execution_count": 37,
   "metadata": {},
   "outputs": [
    {
     "name": "stdout",
     "output_type": "stream",
     "text": [
      "{'mean': 0.9400439393939394, 'stdev': 0.0038590317183834475}\n",
      "Time Lapsed = 0:0:35.17416024208069\n",
      "{'mean': 0.9400439393939394, 'stdev': 0.0038590317183834475}\n",
      "Time Lapsed = 0:0:35.68927025794983\n"
     ]
    },
    {
     "data": {
      "text/plain": [
       "35.68927025794983"
      ]
     },
     "execution_count": 37,
     "metadata": {},
     "output_type": "execute_result"
    }
   ],
   "source": [
    "stopwatch = Stopwatch(True)\n",
    "print(compute_accuracy_folds(k_folds(66000, 10), ciphers_pca, knn_predictor, {'k': 3}))\n",
    "stopwatch.end_and_print()\n",
    "\n",
    "stopwatch.start()\n",
    "print(compute_accuracy_folds(k_folds(66000, 10), ciphers_shuffle_pca, knn_predictor, {'k': 3}))\n",
    "stopwatch.end_and_print()"
   ]
  },
  {
   "cell_type": "code",
   "execution_count": 77,
   "metadata": {},
   "outputs": [
    {
     "name": "stdout",
     "output_type": "stream",
     "text": [
      "0.958939393939394\n"
     ]
    },
    {
     "data": {
      "image/png": "[encoded data removed]",
      "text/plain": [
       "<Figure size 720x504 with 2 Axes>"
      ]
     },
     "metadata": {
      "needs_background": "light"
     },
     "output_type": "display_data"
    }
   ],
   "source": [
    "data = all_persons_in(ciphers_pca)\n",
    "predictions = knn_predictor(data[\"train_data\"][:, 2:], data[\"train_data\"][:,1], data[\"test_data\"][:, 2:], {'k': 3})\n",
    "cf = pd.crosstab(predictions, data[\"test_data\"][:, 1])\n",
    "plt.figure(figsize=(10, 7))\n",
    "sn.heatmap(cf, annot=True, categories = [c for c in \"0123456789\"])\n",
    "accuracy = np.diag(cf).sum() / cf.to_numpy().sum()\n",
    "print(accuracy)"
   ]
  }
 ],
 "metadata": {
  "interpreter": {
   "hash": "c83f36ad9a1d3b3b293ea8b178ae3601a05249816a5651983d8f392decc134b1"
  },
  "kernelspec": {
   "display_name": "Python 3.10.0 64-bit",
   "language": "python",
   "name": "python3"
  },
  "language_info": {
   "codemirror_mode": {
    "name": "ipython",
    "version": 3
   },
   "file_extension": ".py",
   "mimetype": "text/x-python",
   "name": "python",
   "nbconvert_exporter": "python",
   "pygments_lexer": "ipython3",
   "version": "3.10.0"
  },
  "orig_nbformat": 4
 },
 "nbformat": 4,
 "nbformat_minor": 2
}
